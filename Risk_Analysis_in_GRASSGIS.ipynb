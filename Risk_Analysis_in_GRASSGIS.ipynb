{
 "cells": [
  {
   "cell_type": "markdown",
   "metadata": {
    "slideshow": {
     "slide_type": "slide"
    }
   },
   "source": [
    "### GIS Analyses with Free and Open-Source Software WS 2019/ 2020\n",
    "\n",
    "\n",
    "\n",
    "# Performing a Risk Analysis in GRASS GIS"
   ]
  },
  {
   "cell_type": "markdown",
   "metadata": {
    "slideshow": {
     "slide_type": "slide"
    }
   },
   "source": [
    "## Time Schedule\n",
    "\n",
    "|  Nr. \t| Date     \t| Title                            \t| Assignments  \t| Deadline   \t| Project          \t|\n",
    "|----\t|:----------\t|:-----------------------------------|--------------\t|:-------------|:-----------------|\n",
    "| 1  \t| 231019 \t| Seminar Introduction to FOSSGIS \t| Assignment 1 \t|           \t|                  \t|\n",
    "| 2  \t| 30.10.19 \t| Seminar: Open Data  + QGIS       \t| Assignment 2 \t|            \t|                  \t|\n",
    "| 3  \t| 06.11.19 \t| Tutorium                         \t|              \t|            \t|                  \t|\n",
    "| 4  \t| 13.11.19 \t| Seminar:  GRASS GIS              \t| Assignment 3 \t| Assignment 1 \t|                  \t|\n",
    "| 5  \t| 20.11.19 \t| Tutorium                         \t|              \t| Assignment 2 \t| Form groups      \t|\n",
    "| __6__ | __27.11.19__| __Seminar: GRASS GIS + Python__ \t|__Assignment 4__|Assignment 3 |                |\n",
    "| 7  \t| 04.12.19 \t| Tutorium                         \t|              \t|            \t| __Project Proposal__ \t|\n",
    "| 8  \t| __11.12.19__ \t| Seminar : GRASS / QGIS + Python  \t| Assignment 5 \t| __Assignment 4__ \t|                  \t|\n",
    "| 9  \t| 18.12.19 \t| Tutorium                         \t|              \t|            \t|                  \t|\n",
    "| 10 \t| 08.01.20 \t| Project                          \t|              \t| Assignment 5 \t|                  \t|\n",
    "| 11 \t| 15.01.20 \t| Project                          \t|              \t|            \t|                  \t|\n",
    "| 12 \t| 22.01.20 \t| Project                          \t|               |            \t|                  \t|\n",
    "| 13 \t| 29.01.20 \t| Project Presentations            \t|               |            \t|  \t                |\n",
    "| 14 \t| 05.02.19 \t| Project Presentations            \t|               |               |                   |"
   ]
  },
  {
   "cell_type": "markdown",
   "metadata": {
    "slideshow": {
     "slide_type": "slide"
    }
   },
   "source": [
    "# Repetition: Concept of GRASS GIS\n",
    "\n",
    "1. Define the terms “Database”, „Location”, „Mapset“ and \"Region\" in the context of GRASS GIS. Explain how they are connected.\n",
    "2. Name and explain two differences between QGIS and GRASS GIS in respect to the data management. \n",
    "    \n",
    "__Think for yourself (2 min), exchange with your partner (3 min).__\n"
   ]
  },
  {
   "cell_type": "markdown",
   "metadata": {
    "slideshow": {
     "slide_type": "slide"
    }
   },
   "source": [
    "## GRASS GIS Database Model\n",
    "![grass_gis](imgs/grass_gis.png)"
   ]
  },
  {
   "cell_type": "markdown",
   "metadata": {
    "slideshow": {
     "slide_type": "slide"
    }
   },
   "source": [
    "## Using GRASS GIS tools within QGIS\n",
    "\n",
    "### Option 1: QGIS Processing Toolbox\n",
    "Many GRASS GIS tools are available within the QGIS Processing Toolbox and can be included in QGIS models"
   ]
  },
  {
   "cell_type": "markdown",
   "metadata": {
    "slideshow": {
     "slide_type": "fragment"
    }
   },
   "source": [
    "### Option 2: GRASS 7 Plugin for QGIS \n",
    "Install the 'GRASS 7' Plugin from the QGIS Plugin Repository. This plugin let's you use GRASS GIS tools within QGIS and display mapsets within QGIS is. \n",
    "\n",
    "__&rarr; [Tutorial](https://www.youtube.com/watch?v=QFD_qDhtCaw) on how to use the GRASS GIS 7 Plugin for QGIS__"
   ]
  },
  {
   "cell_type": "markdown",
   "metadata": {
    "slideshow": {
     "slide_type": "fragment"
    }
   },
   "source": [
    "## Any other questions about the assignment or the project? "
   ]
  },
  {
   "cell_type": "markdown",
   "metadata": {
    "slideshow": {
     "slide_type": "slide"
    }
   },
   "source": [
    "# Document your workflows in the assignments so someone else can reproduce it!"
   ]
  },
  {
   "cell_type": "markdown",
   "metadata": {
    "slideshow": {
     "slide_type": "slide"
    }
   },
   "source": [
    "## Learning Goals for Today\n",
    "\n",
    "You should be able to ...\n",
    "\n",
    "* ... fork a github repository.\n",
    "* ... plan and perform a risk analysis using GRASS GIS.\n",
    "* ... implement the analysis as a script using GRASS GIS and Python.\n",
    "* ... identify critical aspects of a spatial analysis."
   ]
  },
  {
   "cell_type": "markdown",
   "metadata": {
    "slideshow": {
     "slide_type": "slide"
    }
   },
   "source": [
    "# Forking a github repository\n",
    "\n",
    "1. Go to [https://github.com/redfrexx/fossgis_19_4](https://github.com/redfrexx/fossgis_19_4) and fork the repository.\n",
    "2. Copy the url to your __forked__ repository. \n",
    "3. Open the command line and change to a directory in which you would like to store the repository.\n",
    "4. Clone the forked repository to your computer."
   ]
  },
  {
   "cell_type": "markdown",
   "metadata": {
    "slideshow": {
     "slide_type": "-"
    }
   },
   "source": [
    "![git_fork](imgs/git_fork.png)"
   ]
  },
  {
   "cell_type": "markdown",
   "metadata": {
    "slideshow": {
     "slide_type": "slide"
    }
   },
   "source": [
    "# Performing a Wild Fire Risk Assessment\n",
    "\n",
    "\n",
    "![fire](imgs/wildfire.png)\n",
    "_Source:https://www.euroweeklynews.com/2019/06/27/massive-forest-fire-in-tarragona/_"
   ]
  },
  {
   "cell_type": "markdown",
   "metadata": {
    "slideshow": {
     "slide_type": "slide"
    }
   },
   "source": [
    "## Risk Assessment\n",
    "\n",
    "In its most simple form, disaster risk is a function of three components (World Bank, 2014):\n",
    "\n",
    "\\begin{equation*}\n",
    "risk = hazard * exposure * vulnerability\n",
    "\\end{equation*}\n",
    "\n",
    "__Hazard:__ refers to the likelihood and intensity of a potentially destructive natural phenomenon, such as ground shaking induced by an earthquake or wind speed associated with a tropical cyclone.\n",
    "\n",
    "__Exposure:__ refers to the location, attributes, and value of assets that are important to the various communities, such as people, buildings, factories, farmland, and infrastructure, and that are exposed to the hazard.\n",
    "\n",
    "__Vulnerability:__ is the reaction of the assets when exposed to the spatially variable forces produced by a hazard event. For example, a building’s vulnerability to earthquake increases with the intensity of ground shaking and decreases with improved conformity to seismic design standards. Similarly, socioeconomic conditions can make responding to a hazard event easier or more difficult.\n",
    "\n",
    "_Source: Risk Assessment Handbook (2015)_"
   ]
  },
  {
   "cell_type": "markdown",
   "metadata": {
    "slideshow": {
     "slide_type": "slide"
    }
   },
   "source": [
    "## Modelling risk in GIS:\n",
    "\n",
    "1. Calculate criteria which describe the hazard, exposure and vulnerability. \n",
    "2. Reclassify them to a common value range so they are comparable. \n",
    "3. Combine them in a suitable way e.g. addition, multiplication, using weights. \n",
    "\n",
    "This approach can also be used for suitability analysis, site selection models etc."
   ]
  },
  {
   "cell_type": "markdown",
   "metadata": {
    "slideshow": {
     "slide_type": "fragment"
    }
   },
   "source": [
    "### Which criteria are important to represent hazard, exposure and vulnerability? "
   ]
  },
  {
   "cell_type": "markdown",
   "metadata": {
    "slideshow": {
     "slide_type": "slide"
    }
   },
   "source": [
    "### Steps of a spatial analysis:\n",
    "1. Literature research \n",
    "2. Data research\n",
    "3. __Implementing the workflow__\n",
    "4. Running the analysis \n",
    "5. Evaluating the results"
   ]
  },
  {
   "cell_type": "markdown",
   "metadata": {
    "slideshow": {
     "slide_type": "slide"
    }
   },
   "source": [
    "# Step 1: Literature research \n",
    "    \n",
    "#### Purpose: \n",
    "* Background knowledge about the topic (e.g. which factors are imporant for the analysis?) \n",
    "* Methods (e.g. which spatial analysis methods have been applied before)\n",
    "\n",
    "__How do you perform a literature research?__"
   ]
  },
  {
   "cell_type": "markdown",
   "metadata": {
    "slideshow": {
     "slide_type": "fragment"
    }
   },
   "source": [
    "* Find suitable key words to search for similar studies and books using __Google Scholar__\n",
    "* Use __forward__ (cited by) and __backward__ (cited) __search__ to find similar studies.\n",
    "* You don't need to cite all relevant studies, just a few examples for the different approaches that have been applied.\n"
   ]
  },
  {
   "cell_type": "markdown",
   "metadata": {
    "slideshow": {
     "slide_type": "slide"
    }
   },
   "source": [
    "### Literature on Wildfire Risk Assessments:\n",
    "In our analysis will roughly follow the approach of [Pedro Venâncio ](https://www.qgis.org/en/site/about/case_studies/portugal_pinhel.html). He documented his workflow in this [document](http://www.uco.es/estudios/postgrado/master_geoforest/wp-content/uploads/2013/09/Cartografia_de_Risco_de_Incendio_Florestal_com_Software_Open_Source.pdf). "
   ]
  },
  {
   "cell_type": "markdown",
   "metadata": {
    "slideshow": {
     "slide_type": "fragment"
    }
   },
   "source": [
    "But there are many more studies and resources with other approaches: \n",
    "\n",
    "* [A review of recent advances in risk analysisfor wildfire management](https://www.fs.fed.us/rm/pubs_other/rmrs_2013_miller_c001.pdf)\n",
    "* [GEOGRAPHIC INFORMATION SYSTEMS AND RISK ASSESSMENT](https://publications.jrc.ec.europa.eu/repository/bitstream/JRC42503/gis_risk_assessment_jan%2007%202008.pdf)\n",
    "* [GIS-based Framework for Wildfire Risk Assessment](https://www.preventionweb.net/files/1567_risk.pdf)\n",
    "* [GIS-Based Forest Fire Risk Assessment and Mapping](https://www.researchgate.net/publication/224248567_GIS-Based_Forest_Fire_Risk_Assessment_and_Mapping)\n",
    "* [Wildfire modeling in GRASS GIS](https://www.researchgate.net/publication/307575210_Wildfire_modeling_in_GRASS_GIS)\n",
    "* [Risk Assessment: A Forest Fire Example](https://www.jstor.org/stable/4356185?seq=8#metadata_info_tab_contents)\n",
    "* [PATIOTEMPORAL ANALYSIS OF FOREST FIRE RISK MODELS: A CASE STUDY FOR A GREEK ISLAND](https://run.unl.pt/bitstream/10362/33650/1/TGEO0171.pdf)\n",
    "* [A Wildfire Risk Assessment Framework for Land and Resource Management](https://digitalcommons.unl.edu/cgi/viewcontent.cgi?article=1334&context=usdafsfacpub)\n",
    "* [FRAP](https://frap.fire.ca.gov/)"
   ]
  },
  {
   "cell_type": "markdown",
   "metadata": {
    "slideshow": {
     "slide_type": "slide"
    }
   },
   "source": [
    "# Step 2: Data sets \n",
    "\n",
    "* CORINE Land Cover [Copernicus Landmonitoring Services](https://land.copernicus.eu/pan-european/corine-land-cover)\n",
    "* SRTM Digital Elevation Model (DEM) (Source: [https://dwtkns.com](https://dwtkns.com))\n",
    "* Wild Fire Incidents (2001 - 2015) - (Source: [Fire Information For Resource Management Systems](https://firms.modaps.eosdis.nasa.gov))\n",
    "* OpenStreetMap data for buildings and fire stations (Source: [Overpass Turbo](overpass-turbo.eu))\n",
    "\n",
    "### Other source on forest and wildfire data\n",
    "* [Global Forest Watch](https://earthdata.nasa.gov/earth-observation-data/near-real-time/firms/active-fire-data)"
   ]
  },
  {
   "cell_type": "markdown",
   "metadata": {
    "slideshow": {
     "slide_type": "slide"
    }
   },
   "source": [
    "# Step 3: Implementing the workflow in GRASS GIS\n",
    "\n",
    "The workflow should be implemented as a script. There are two options in GRASS GIS: \n",
    "\n",
    "1. Shell scripts\n",
    "2. Python scripts\n"
   ]
  },
  {
   "cell_type": "markdown",
   "metadata": {
    "slideshow": {
     "slide_type": "slide"
    }
   },
   "source": [
    "## GRASS GIS and Python\n",
    "* https://grasswiki.osgeo.org/wiki/GRASS_and_Python\n",
    "* https://grass.osgeo.org/grass76/manuals/libpython/index.html\n",
    "\n",
    "\n",
    "GRASS GIS Script Package:\n",
    "* https://grass.osgeo.org/grass78/manuals/libpython/script_intro.html\n",
    "\n",
    "GRASS GIS PyGrass Package: (more \"pythonic\")\n",
    "\n",
    "* https://grass.osgeo.org/grass76/manuals/libpython/pygrass_index.html\n",
    "* https://grasswiki.osgeo.org/wiki/Python/pygrass\n",
    "\n",
    "Tutorials:\n",
    "* [Tutorial on Python Basics](https://www.w3schools.com/python/)\n",
    "* https://neteler.gitlab.io/grass-gis-analysis/05_grass_gis_python_session/\n",
    "\n"
   ]
  },
  {
   "cell_type": "markdown",
   "metadata": {
    "slideshow": {
     "slide_type": "slide"
    }
   },
   "source": [
    "# Step 3: Setting up the workflow (Assignment 4)\n",
    "\n",
    "Write two Python scipts, one for importing and preprocessing the data and one for calculating the risk. \n",
    "\n",
    "Create a new location using the file \"tarragona_region.geojson\". Make sure that the projection and the region match the file \"tarragona_region.geojson\". Set the resolution to 10 km. Create a new mapset and open it."
   ]
  },
  {
   "cell_type": "markdown",
   "metadata": {
    "slideshow": {
     "slide_type": "slide"
    }
   },
   "source": [
    "\n",
    "\n",
    "## 1. Importing and preprocessing the data\n",
    "\n",
    "Create a new Python script within GRASS GIS called \"tarragona_preprocessing.py\" that performs the following steps:\n",
    "\n",
    "1. Import all data sets (CORINE Land Cover, DEM, Wildfire incidents, OSM data)\n",
    "\n",
    "1. __Calculate the slope__ of the terrain based on the DEM. Reclassify the slope values to the following hazard classes:\n",
    "\n",
    "| Hazard value  | Slope   |\n",
    "|:---------------|:-------------------------|\n",
    "| 1 |0 - 5   |\n",
    "| 2 |6 - 10   |\n",
    "| 3 |11 - 15   |\n",
    "| 4 |>16   |\n",
    "\n",
    "Hint: r.slope.aspect and r.reclass are useful. The reclassification tool does not generate a permanent result. To make the result of the reclassification permanent, use r.resample (maintaining the resolution of g.region).\n",
    "\n",
    "2. __Reclassify the CORINE land cover__ classes to hazard classes according to the following schema: \n",
    "\n",
    "| Hazard value  | CORINE Land Cover Class   |\n",
    "|:---------------|:-------------------------|\n",
    "| 1 |all remaining classes   |\n",
    "| 2 |212, 213, 221, 222, 241, 331   |\n",
    "| 3 |211, 223, 231, 242, 244   |\n",
    "| 4 |243, 311, 312, 313, 321, 322, 323, 324, 332, 333,334   |\n",
    "\n",
    "3. __Calculate the probability for the ignition of a fire.__ Create a 1 km grid and count the number of fire incidents per grid cell (column name = fire_count). Transform the grid to raster. Use r.mapcalc to calculate the fire ignition probability using the following formula: (if( probability@chludwig > 15, 15, probability@chludwig ) * 100 / 15). Reclassify all cells with a probability of 0 to 1. __Hint:__ Take a look at the examples of the documentation of v.mkgrid. \n",
    "\n",
    "Reclassify the probability values to hazard classes according to the following schema:\n",
    "\n",
    "|  Hazard class  | Fire probability   |\n",
    "|:---------------|:-------------------------|\n",
    "| 1 |0 - 25   |\n",
    "| 2 |25 - 50   |\n",
    "| 3 |50 - 75   |\n",
    "| 4 |75 -100   |\n",
    "\n",
    "4. __The exposure is apporoximated by the density of buildings__ in this analysis. Find a way to calculate the density of buildings and reclassify it using the following schema.\n",
    "\n",
    "|  Exposure class  | Building density  |\n",
    "|:---------------|:-------------------------|\n",
    "| 1 |0 - 25   |\n",
    "| 2 |25 - 50   |\n",
    "| 3 |50 - 75  |\n",
    "| 4 |100   |\n",
    "\n",
    "5. __Calculate the proximity to fire stations__. Hint: You may use the tool r.grow.distance for that. Reclassify them to a value range of 1 to 4 in a meaningful way. Provide the reclassification table in your documentation. \n",
    "\n",
    "\n",
    "6. __Push the Python script__ to your forked github repository."
   ]
  },
  {
   "cell_type": "markdown",
   "metadata": {
    "slideshow": {
     "slide_type": "slide"
    }
   },
   "source": [
    "## 2. Running the wildfire risk analysis \n",
    "\n",
    "Create a new Python script which performs the following tasks. \n",
    "\n",
    "1. Calculate the hazard by adding the criteria up. This method is also known as \"Weighted Overlay Analaysis\". Each criteria has a weighting factor (w) which can be used to control its influence on the final hazard value. \n",
    "\n",
    "\\begin{equation*}\n",
    "hazard = fireProbability * w_{fire} + reclassifiedSlope * w_{slope} + reclassifiedLandcover * w_{land}\n",
    "\\end{equation*}\n",
    "\n",
    "__Note:__ It is also possible to combine the factors by multiplication. This would be more like a logical AND combination and more strict, while combining factors by addition is more similar to a logical OR combination.\n",
    "\n",
    "2. Calculate the risk. Exposure is represented by the density of buildings, vulnerability by the proximity to fire stations. \n",
    "\n",
    "\\begin{equation*}\n",
    "risk = hazard * exposure * vulnerability\n",
    "\\end{equation*}\n",
    "\n",
    "3. Push the Python scripts to your forked github repository. "
   ]
  },
  {
   "cell_type": "markdown",
   "metadata": {
    "slideshow": {
     "slide_type": "slide"
    }
   },
   "source": [
    "## 3. Evaluation \n",
    "\n",
    "Critically evaluate the analysis by answering the following questions:\n",
    "* Where are the potentials and limitations of this analysis?\n",
    "* Do you think the analysis yields representative, meaningful, useful results? Why or why not? \n",
    "* What would you change in order to improve it? \n",
    "* Which criteria would you add to the analysis to improve it?\n",
    "* Would you model some of the criteria differently?\n",
    "    \n",
    "\n",
    "## Bonus exercise:\n",
    "\n",
    "__Calculate the travel time from the fire stations to each point instead of distances.__ Create isochrones from each fire station up to a travel time of 20 minutes in 5 minute intervals. This is possible within GRASS GIS or using the [OpenRouteService](https://maps.openrouteservice.org/) for this task. Does it make a difference in the result of the risk analysis? \n",
    "\n",
    "Here is a [tutorial](https://github.com/redfrexx/OpenSourceGIS_06) from last year's course on using the OpenRouteService or look at the examples of the [openrouteservice-py repository](https://github.com/GIScience/openrouteservice-py/blob/master/examples/basic_example.ipynb)."
   ]
  }
 ],
 "metadata": {
  "celltoolbar": "Slideshow",
  "kernelspec": {
   "display_name": "Python (cs4geos)",
   "language": "python",
   "name": "cs4geos"
  },
  "language_info": {
   "codemirror_mode": {
    "name": "ipython",
    "version": 3
   },
   "file_extension": ".py",
   "mimetype": "text/x-python",
   "name": "python",
   "nbconvert_exporter": "python",
   "pygments_lexer": "ipython3",
   "version": "3.7.3"
  }
 },
 "nbformat": 4,
 "nbformat_minor": 2
}
